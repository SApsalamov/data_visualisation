{
 "cells": [
  {
   "cell_type": "code",
   "execution_count": 1,
   "metadata": {},
   "outputs": [],
   "source": [
    "from IPython.core.display import HTML, display\n",
    "from string import Template\n",
    "import pandas as pd\n",
    "import json, random"
   ]
  },
  {
   "cell_type": "code",
   "execution_count": 2,
   "metadata": {},
   "outputs": [
    {
     "data": {
      "text/plain": [
       "'0.25.3'"
      ]
     },
     "execution_count": 2,
     "metadata": {},
     "output_type": "execute_result"
    }
   ],
   "source": [
    "import pandas as pd\n",
    "pd.__version__"
   ]
  },
  {
   "cell_type": "code",
   "execution_count": 3,
   "metadata": {},
   "outputs": [],
   "source": [
    "from nltk.corpus import brown\n"
   ]
  },
  {
   "cell_type": "code",
   "execution_count": 2,
   "metadata": {},
   "outputs": [
    {
     "data": {
      "text/plain": [
       "1000"
      ]
     },
     "execution_count": 2,
     "metadata": {},
     "output_type": "execute_result"
    }
   ],
   "source": [
    "words = brown.words()[:1000]\n",
    "len(words)"
   ]
  },
  {
   "cell_type": "code",
   "execution_count": 7,
   "metadata": {},
   "outputs": [
    {
     "name": "stdout",
     "output_type": "stream",
     "text": [
      "The Fulton County Grand Jury said Friday an investigation of Atlanta's recent primary election produced `` no evidence '' that any irregularities took place . The jury further said in term-end presentments that the City Executive Committee , which had over-all charge of the election , `` deserves the praise and thanks of the City of Atlanta '' for the manner in which the election was conducted . The September-October term jury had been charged by Fulton Superior Court Judge Durwood Pye to investigate reports of possible `` irregularities '' in the hard-fought primary which was won by Mayor-nominate Ivan Allen Jr. . `` Only a relative handful of such reports was received '' , the jury said , `` considering the widespread interest in the election , the number of voters and the size of this city '' . The jury said it did find that many of Georgia's registration and election laws `` are outmoded or inadequate and often ambiguous '' . It recommended that Fulton legislators act `` to have these laws studied and revised to the end of modernizing and improving them '' . The grand jury commented on a number of other topics , among them the Atlanta and Fulton County purchasing departments which it said `` are well operated and follow generally accepted practices which inure to the best interest of both governments '' . Merger proposed However , the jury said it believes `` these two offices should be combined to achieve greater efficiency and reduce the cost of administration '' . The City Purchasing Department , the jury said , `` is lacking in experienced clerical personnel as a result of city personnel policies '' . It urged that the city `` take steps to remedy '' this problem . Implementation of Georgia's automobile title law was also recommended by the outgoing jury . It urged that the next Legislature `` provide enabling funds and re-set the effective date so that an orderly implementation of the law may be effected '' . The grand jury took a swipe at the State Welfare Department's handling of federal funds granted for child welfare services in foster homes . `` This is one of the major items in the Fulton County general assistance program '' , the jury said , but the State Welfare Department `` has seen fit to distribute these funds through the welfare departments of all the counties in the state with the exception of Fulton County , which receives none of this money . The jurors said they realize `` a proportionate distribution of these funds might disable this program in our less populous counties '' . Nevertheless , `` we feel that in the future Fulton County should receive some portion of these available funds '' , the jurors said . `` Failure to do this will continue to place a disproportionate burden '' on Fulton taxpayers . The jury also commented on the Fulton ordinary's court which has been under fire for its practices in the appointment of appraisers , guardians and administrators and the awarding of fees and compensation . Wards protected The jury said it found the court `` has incorporated into its operating procedures the recommendations '' of two previous grand juries , the Atlanta Bar Association and an interim citizens committee . `` These actions should serve to protect in fact and in effect the court's wards from undue costs and its appointed and elected servants from unmeritorious criticisms '' , the jury said . Regarding Atlanta's new multi-million-dollar airport , the jury recommended `` that when the new management takes charge Jan. 1 the airport be operated in a manner that will eliminate political influences '' . The jury did not elaborate , but it added that `` there should be periodic surveillance of the pricing practices of the concessionaires for the purpose of keeping the prices reasonable '' . Ask jail deputies On other matters , the jury recommended that : ( 1 ) Four additional deputies be employed at the Fulton County Jail and `` a doctor , medical intern or extern be employed for night and weekend duty at the jail '' . ( 2 ) Fulton legislators `` work with city officials to pass enabling legislation that will permit the establishment of a fair and equitable '' pension plan for city employes . The jury praised the administration and operation of the Atlanta Police Department , the Fulton Tax Commissioner's Office , the Bellwood and Alpharetta prison farms , Grady Hospital and the Fulton Health Department . Mayor William B. Hartsfield filed suit for divorce from his wife , Pearl Williams Hartsfield , in Fulton Superior Court Friday . His petition charged mental cruelty . The couple was married Aug. 2 , 1913 . They have a son , William Berry Jr. , and a daughter , Mrs. J. M. Cheshire of Griffin . Attorneys for the mayor said that an amicable property settlement has been agreed upon . The petition listed the mayor's occupation as `` attorney '' and his age as 71 . It listed his wife's age as 74 and place of birth as Opelika , Ala. . The petition said that the couple has not lived together as man and wife for more than a year . The Hartsfield home is at 637 E. Pelham Rd. Aj . Henry L. Bowden was listed on the petition as the mayor's attorney . Hartsfield has been mayor of Atlanta , with exception of one brief interlude , since 1937 . His political career goes back to his election to city council in 1923 . The mayor's present term of office expires Jan. 1 . He will be succeeded by Ivan Allen Jr. , who became a candidate in the Sept. 13 primary after Mayor Hartsfield announced that he would not run for reelection . Georgia Republicans are getting strong encouragement to enter a candidate in the 1962 governor's\n"
     ]
    }
   ],
   "source": [
    "print(\" \".join(words))"
   ]
  },
  {
   "cell_type": "code",
   "execution_count": 109,
   "metadata": {},
   "outputs": [],
   "source": [
    "sents = brown.sents()[:20]"
   ]
  },
  {
   "cell_type": "code",
   "execution_count": null,
   "metadata": {},
   "outputs": [],
   "source": [
    "sents"
   ]
  },
  {
   "cell_type": "code",
   "execution_count": 5,
   "metadata": {},
   "outputs": [],
   "source": []
  },
  {
   "cell_type": "code",
   "execution_count": null,
   "metadata": {},
   "outputs": [],
   "source": []
  },
  {
   "cell_type": "code",
   "execution_count": 5,
   "metadata": {},
   "outputs": [],
   "source": [
    "import nltk\n",
    "from nltk.tokenize import word_tokenize\n",
    "import spacy\n",
    "import re, string"
   ]
  },
  {
   "cell_type": "code",
   "execution_count": 6,
   "metadata": {},
   "outputs": [
    {
     "name": "stderr",
     "output_type": "stream",
     "text": [
      "[nltk_data] Downloading package stopwords to /home/sultan/nltk_data...\n",
      "[nltk_data]   Package stopwords is already up-to-date!\n"
     ]
    }
   ],
   "source": [
    "nltk.download('stopwords')\n",
    "from nltk.corpus import stopwords\n",
    "STOPWORDS = stopwords.words('english')"
   ]
  },
  {
   "cell_type": "code",
   "execution_count": 7,
   "metadata": {},
   "outputs": [],
   "source": [
    "def clean_text(word):\n",
    "    '''Make text lowercase, remove square brackets, remove punctuation and remove words containing numbers.'''\n",
    "    word = word.lower()\n",
    "    word = re.sub(r'[\\[\\]\\(\\)\\{\\}]', '', word)\n",
    "    word = re.sub(r'[%s]' % re.escape(string.punctuation), '', word)\n",
    "    word = re.sub(r'\\w*\\d\\w*', '', word)\n",
    "    \n",
    "    # text = word_tokenize(text)\n",
    "    # Remove a sentence if it is only one word long\n",
    "    return word if word not in STOPWORDS else None"
   ]
  },
  {
   "cell_type": "code",
   "execution_count": 8,
   "metadata": {},
   "outputs": [],
   "source": [
    "nlp = spacy.load('en')\n"
   ]
  },
  {
   "cell_type": "code",
   "execution_count": null,
   "metadata": {},
   "outputs": [],
   "source": []
  },
  {
   "cell_type": "code",
   "execution_count": 76,
   "metadata": {},
   "outputs": [
    {
     "name": "stdout",
     "output_type": "stream",
     "text": [
      "[[0 0 0 0 3]\n",
      " [0 0 2 1 1]\n",
      " [0 2 0 1 1]\n",
      " [0 1 1 0 0]\n",
      " [3 1 1 0 0]]\n",
      "['book', 'cat', 'good', 'shit', 'this']\n"
     ]
    }
   ],
   "source": [
    "from sklearn.feature_extraction.text import CountVectorizer\n",
    "docs = ['this this this book',\n",
    "        'this cat good',\n",
    "        'cat good shit']\n",
    "count_model = CountVectorizer(ngram_range=(1,1)) # default unigram model\n",
    "X = count_model.fit_transform(docs)\n",
    "# X[X > 0] = 1 # run this line if you don't want extra within-text cooccurence (see below)\n",
    "Xc = (X.T * X) # this is co-occurrence matrix in sparse csr format\n",
    "Xc.setdiag(0) # sometimes you want to fill same word cooccurence to 0\n",
    "print(Xc.todense()) # print out matrix in dense format\n",
    "print(count_model.get_feature_names())"
   ]
  },
  {
   "cell_type": "code",
   "execution_count": 87,
   "metadata": {},
   "outputs": [
    {
     "data": {
      "text/plain": [
       "numpy.matrix"
      ]
     },
     "execution_count": 87,
     "metadata": {},
     "output_type": "execute_result"
    }
   ],
   "source": [
    "type(Xc.todense())"
   ]
  },
  {
   "cell_type": "code",
   "execution_count": 90,
   "metadata": {},
   "outputs": [],
   "source": [
    "import numpy as np"
   ]
  },
  {
   "cell_type": "code",
   "execution_count": 94,
   "metadata": {},
   "outputs": [],
   "source": [
    "l = np.array(Xc.todense()).tolist()"
   ]
  },
  {
   "cell_type": "code",
   "execution_count": 95,
   "metadata": {},
   "outputs": [
    {
     "data": {
      "text/plain": [
       "[[0, 0, 0, 0, 3],\n",
       " [0, 0, 2, 1, 1],\n",
       " [0, 2, 0, 1, 1],\n",
       " [0, 1, 1, 0, 0],\n",
       " [3, 1, 1, 0, 0]]"
      ]
     },
     "execution_count": 95,
     "metadata": {},
     "output_type": "execute_result"
    }
   ],
   "source": [
    "l"
   ]
  },
  {
   "cell_type": "code",
   "execution_count": 99,
   "metadata": {},
   "outputs": [
    {
     "data": {
      "text/plain": [
       "['book', 'cat', 'good', 'shit', 'this']"
      ]
     },
     "execution_count": 99,
     "metadata": {},
     "output_type": "execute_result"
    }
   ],
   "source": [
    "fn = count_model.get_feature_names()\n",
    "fn"
   ]
  },
  {
   "cell_type": "code",
   "execution_count": null,
   "metadata": {},
   "outputs": [],
   "source": [
    "l = np.array(Xc.todense()).tolist()\n",
    "fn = count_model.get_feature_names()\n",
    "edge_list = list()\n",
    "for indtop, ro in enumerate(l): \n",
    "    #print(ro)\n",
    "    for ind, col in enumerate(ro):\n",
    "        # print(col)\n",
    "        edge_list.append({'source':fn[indtop], 'target': fn[ind], 'weight': col})"
   ]
  },
  {
   "cell_type": "code",
   "execution_count": 100,
   "metadata": {},
   "outputs": [],
   "source": [
    "edge_list = list()\n",
    "for indtop, ro in enumerate(l): \n",
    "    #print(ro)\n",
    "    for ind, col in enumerate(ro):\n",
    "        # print(col)\n",
    "        edge_list.append({'source':fn[indtop], 'target': fn[ind], 'weight': col})"
   ]
  },
  {
   "cell_type": "code",
   "execution_count": 101,
   "metadata": {},
   "outputs": [
    {
     "data": {
      "text/plain": [
       "[{'source': 'book', 'target': 'book', 'weight': 0},\n",
       " {'source': 'book', 'target': 'cat', 'weight': 0},\n",
       " {'source': 'book', 'target': 'good', 'weight': 0},\n",
       " {'source': 'book', 'target': 'shit', 'weight': 0},\n",
       " {'source': 'book', 'target': 'this', 'weight': 3},\n",
       " {'source': 'cat', 'target': 'book', 'weight': 0},\n",
       " {'source': 'cat', 'target': 'cat', 'weight': 0},\n",
       " {'source': 'cat', 'target': 'good', 'weight': 2},\n",
       " {'source': 'cat', 'target': 'shit', 'weight': 1},\n",
       " {'source': 'cat', 'target': 'this', 'weight': 1},\n",
       " {'source': 'good', 'target': 'book', 'weight': 0},\n",
       " {'source': 'good', 'target': 'cat', 'weight': 2},\n",
       " {'source': 'good', 'target': 'good', 'weight': 0},\n",
       " {'source': 'good', 'target': 'shit', 'weight': 1},\n",
       " {'source': 'good', 'target': 'this', 'weight': 1},\n",
       " {'source': 'shit', 'target': 'book', 'weight': 0},\n",
       " {'source': 'shit', 'target': 'cat', 'weight': 1},\n",
       " {'source': 'shit', 'target': 'good', 'weight': 1},\n",
       " {'source': 'shit', 'target': 'shit', 'weight': 0},\n",
       " {'source': 'shit', 'target': 'this', 'weight': 0},\n",
       " {'source': 'this', 'target': 'book', 'weight': 3},\n",
       " {'source': 'this', 'target': 'cat', 'weight': 1},\n",
       " {'source': 'this', 'target': 'good', 'weight': 1},\n",
       " {'source': 'this', 'target': 'shit', 'weight': 0},\n",
       " {'source': 'this', 'target': 'this', 'weight': 0}]"
      ]
     },
     "execution_count": 101,
     "metadata": {},
     "output_type": "execute_result"
    }
   ],
   "source": [
    "edge_list"
   ]
  },
  {
   "cell_type": "code",
   "execution_count": 11,
   "metadata": {},
   "outputs": [
    {
     "data": {
      "text/plain": [
       "{'this': 4, 'book': 0, 'cat': 1, 'good': 2, 'shit': 3}"
      ]
     },
     "execution_count": 11,
     "metadata": {},
     "output_type": "execute_result"
    }
   ],
   "source": [
    "count_model.vocabulary_"
   ]
  },
  {
   "cell_type": "code",
   "execution_count": 12,
   "metadata": {},
   "outputs": [],
   "source": []
  },
  {
   "cell_type": "code",
   "execution_count": 14,
   "metadata": {},
   "outputs": [],
   "source": [
    "count_model = CountVectorizer(ngram_range=(1,1))"
   ]
  },
  {
   "cell_type": "code",
   "execution_count": 15,
   "metadata": {},
   "outputs": [
    {
     "ename": "AttributeError",
     "evalue": "'CountVectorizer' object has no attribute 'vocabulary_'",
     "output_type": "error",
     "traceback": [
      "\u001b[0;31m---------------------------------------------------------------------------\u001b[0m",
      "\u001b[0;31mAttributeError\u001b[0m                            Traceback (most recent call last)",
      "\u001b[0;32m<ipython-input-15-3a6cc6165b54>\u001b[0m in \u001b[0;36m<module>\u001b[0;34m\u001b[0m\n\u001b[0;32m----> 1\u001b[0;31m \u001b[0mcount_model\u001b[0m\u001b[0;34m.\u001b[0m\u001b[0mvocabulary_\u001b[0m\u001b[0;34m\u001b[0m\u001b[0;34m\u001b[0m\u001b[0m\n\u001b[0m",
      "\u001b[0;31mAttributeError\u001b[0m: 'CountVectorizer' object has no attribute 'vocabulary_'"
     ]
    }
   ],
   "source": [
    "count_model.vocabulary_"
   ]
  },
  {
   "cell_type": "code",
   "execution_count": 9,
   "metadata": {},
   "outputs": [],
   "source": [
    "def lemmatizer(text):        \n",
    "    sent = []\n",
    "    doc = nlp(\" \".join(text))\n",
    "    for word in doc:\n",
    "        sent.append(word.lemma_)\n",
    "    return sent"
   ]
  },
  {
   "cell_type": "code",
   "execution_count": 51,
   "metadata": {},
   "outputs": [],
   "source": [
    "word_map = set()\n",
    "for sentence in sents:\n",
    "    for word in sentence:\n",
    "        # print(word)\n",
    "        word = clean_text(word)\n",
    "        # print(word)\n",
    "        if word != None and len(word) > 2:\n",
    "            word_map.add(word)"
   ]
  },
  {
   "cell_type": "code",
   "execution_count": 111,
   "metadata": {},
   "outputs": [],
   "source": [
    "norm_sents = list()\n",
    "for sentence in sents:\n",
    "    st_senten = []\n",
    "    for word in sentence:\n",
    "        word = clean_text(word)\n",
    "        if word != None and len(word) > 2:\n",
    "            st_senten.append(word)\n",
    "    norm_sents.append(' '.join(st_senten))"
   ]
  },
  {
   "cell_type": "code",
   "execution_count": 112,
   "metadata": {},
   "outputs": [
    {
     "data": {
      "text/plain": [
       "'fulton county grand jury said friday investigation atlantas recent primary election produced evidence irregularities took place'"
      ]
     },
     "execution_count": 112,
     "metadata": {},
     "output_type": "execute_result"
    }
   ],
   "source": [
    "norm_sents[0]"
   ]
  },
  {
   "cell_type": "code",
   "execution_count": 113,
   "metadata": {},
   "outputs": [
    {
     "name": "stdout",
     "output_type": "stream",
     "text": [
      "[[0 0 0 ... 0 1 0]\n",
      " [0 0 0 ... 0 0 0]\n",
      " [0 0 0 ... 0 0 0]\n",
      " ...\n",
      " [0 0 0 ... 0 0 0]\n",
      " [1 0 0 ... 0 0 0]\n",
      " [0 0 0 ... 0 0 0]]\n",
      "['accepted', 'achieve', 'act', 'administration', 'administrators', 'allen', 'also', 'ambiguous', 'among', 'appointment', 'appraisers', 'assistance', 'atlanta', 'atlantas', 'automobile', 'available', 'awarding', 'believes', 'best', 'burden', 'charge', 'charged', 'child', 'city', 'clerical', 'combined', 'commented', 'committee', 'compensation', 'conducted', 'considering', 'continue', 'cost', 'counties', 'county', 'court', 'date', 'department', 'departments', 'deserves', 'disable', 'disproportionate', 'distribute', 'distribution', 'durwood', 'effected', 'effective', 'efficiency', 'election', 'enabling', 'end', 'evidence', 'exception', 'executive', 'experienced', 'failure', 'federal', 'feel', 'fees', 'find', 'fire', 'fit', 'follow', 'foster', 'friday', 'fulton', 'funds', 'future', 'general', 'generally', 'georgias', 'governments', 'grand', 'granted', 'greater', 'guardians', 'handful', 'handling', 'hardfought', 'homes', 'however', 'implementation', 'improving', 'inadequate', 'interest', 'inure', 'investigate', 'investigation', 'irregularities', 'items', 'ivan', 'judge', 'jurors', 'jury', 'lacking', 'law', 'laws', 'legislators', 'legislature', 'less', 'major', 'manner', 'many', 'may', 'mayornominate', 'merger', 'might', 'modernizing', 'money', 'nevertheless', 'next', 'none', 'number', 'offices', 'often', 'one', 'operated', 'orderly', 'ordinarys', 'outgoing', 'outmoded', 'overall', 'personnel', 'place', 'policies', 'populous', 'portion', 'possible', 'practices', 'praise', 'presentments', 'primary', 'problem', 'produced', 'program', 'proportionate', 'proposed', 'protected', 'provide', 'purchasing', 'pye', 'realize', 'receive', 'received', 'receives', 'recent', 'recommended', 'reduce', 'registration', 'relative', 'remedy', 'reports', 'reset', 'result', 'revised', 'said', 'seen', 'septemberoctober', 'services', 'size', 'state', 'steps', 'studied', 'superior', 'swipe', 'take', 'taxpayers', 'term', 'termend', 'thanks', 'title', 'took', 'topics', 'two', 'urged', 'voters', 'wards', 'welfare', 'well', 'widespread']\n"
     ]
    }
   ],
   "source": [
    "count_model = CountVectorizer(ngram_range=(1,1), stop_words=STOPWORDS)\n",
    "X = count_model.fit_transform(norm_sents)\n",
    "# count_model.vocabulary_\n",
    "# X[X > 0] = 1 # run this line if you don't want extra within-text cooccurence (see below)\n",
    "Xc = (X.T * X) # this is co-occurrence matrix in sparse csr format\n",
    "Xc.setdiag(0) # sometimes you want to fill same word cooccurence to 0\n",
    "print(Xc.todense()) # print out matrix in dense format\n",
    "print(count_model.get_feature_names())"
   ]
  },
  {
   "cell_type": "code",
   "execution_count": 114,
   "metadata": {},
   "outputs": [
    {
     "data": {
      "text/plain": [
       "(180, 180)"
      ]
     },
     "execution_count": 114,
     "metadata": {},
     "output_type": "execute_result"
    }
   ],
   "source": [
    "Xc.shape"
   ]
  },
  {
   "cell_type": "code",
   "execution_count": 115,
   "metadata": {},
   "outputs": [
    {
     "data": {
      "text/html": [
       "<div>\n",
       "<style scoped>\n",
       "    .dataframe tbody tr th:only-of-type {\n",
       "        vertical-align: middle;\n",
       "    }\n",
       "\n",
       "    .dataframe tbody tr th {\n",
       "        vertical-align: top;\n",
       "    }\n",
       "\n",
       "    .dataframe thead th {\n",
       "        text-align: right;\n",
       "    }\n",
       "</style>\n",
       "<table border=\"1\" class=\"dataframe\">\n",
       "  <thead>\n",
       "    <tr style=\"text-align: right;\">\n",
       "      <th></th>\n",
       "      <th>id</th>\n",
       "    </tr>\n",
       "  </thead>\n",
       "  <tbody>\n",
       "    <tr>\n",
       "      <th>0</th>\n",
       "      <td>accepted</td>\n",
       "    </tr>\n",
       "    <tr>\n",
       "      <th>1</th>\n",
       "      <td>achieve</td>\n",
       "    </tr>\n",
       "    <tr>\n",
       "      <th>2</th>\n",
       "      <td>act</td>\n",
       "    </tr>\n",
       "    <tr>\n",
       "      <th>3</th>\n",
       "      <td>administration</td>\n",
       "    </tr>\n",
       "    <tr>\n",
       "      <th>4</th>\n",
       "      <td>administrators</td>\n",
       "    </tr>\n",
       "  </tbody>\n",
       "</table>\n",
       "</div>"
      ],
      "text/plain": [
       "               id\n",
       "0        accepted\n",
       "1         achieve\n",
       "2             act\n",
       "3  administration\n",
       "4  administrators"
      ]
     },
     "execution_count": 115,
     "metadata": {},
     "output_type": "execute_result"
    }
   ],
   "source": [
    "idis = pd.DataFrame(count_model.get_feature_names())\n",
    "idis.columns = ['id']\n",
    "idis.head()"
   ]
  },
  {
   "cell_type": "code",
   "execution_count": 116,
   "metadata": {},
   "outputs": [],
   "source": [
    "idis.to_csv('nodelist.csv', index=False)"
   ]
  },
  {
   "cell_type": "code",
   "execution_count": 117,
   "metadata": {},
   "outputs": [
    {
     "data": {
      "text/plain": [
       "(180, 1)"
      ]
     },
     "execution_count": 117,
     "metadata": {},
     "output_type": "execute_result"
    }
   ],
   "source": [
    "idisr = pd.read_csv('nodelist.csv')\n",
    "idisr.shape"
   ]
  },
  {
   "cell_type": "code",
   "execution_count": 118,
   "metadata": {},
   "outputs": [],
   "source": [
    "l = np.array(Xc.todense()).tolist()\n",
    "fn = count_model.get_feature_names()\n",
    "edge_list = list()\n",
    "for indtop, ro in enumerate(l): \n",
    "    #print(ro)\n",
    "    for ind, col in enumerate(ro):\n",
    "        # print(col)\n",
    "        edge_list.append({'source':fn[indtop], 'target': fn[ind], 'weight': col})"
   ]
  },
  {
   "cell_type": "code",
   "execution_count": 119,
   "metadata": {},
   "outputs": [
    {
     "data": {
      "text/html": [
       "<div>\n",
       "<style scoped>\n",
       "    .dataframe tbody tr th:only-of-type {\n",
       "        vertical-align: middle;\n",
       "    }\n",
       "\n",
       "    .dataframe tbody tr th {\n",
       "        vertical-align: top;\n",
       "    }\n",
       "\n",
       "    .dataframe thead th {\n",
       "        text-align: right;\n",
       "    }\n",
       "</style>\n",
       "<table border=\"1\" class=\"dataframe\">\n",
       "  <thead>\n",
       "    <tr style=\"text-align: right;\">\n",
       "      <th></th>\n",
       "      <th>source</th>\n",
       "      <th>target</th>\n",
       "      <th>weight</th>\n",
       "    </tr>\n",
       "  </thead>\n",
       "  <tbody>\n",
       "    <tr>\n",
       "      <th>0</th>\n",
       "      <td>accepted</td>\n",
       "      <td>accepted</td>\n",
       "      <td>0</td>\n",
       "    </tr>\n",
       "    <tr>\n",
       "      <th>1</th>\n",
       "      <td>accepted</td>\n",
       "      <td>achieve</td>\n",
       "      <td>0</td>\n",
       "    </tr>\n",
       "    <tr>\n",
       "      <th>2</th>\n",
       "      <td>accepted</td>\n",
       "      <td>act</td>\n",
       "      <td>0</td>\n",
       "    </tr>\n",
       "    <tr>\n",
       "      <th>3</th>\n",
       "      <td>accepted</td>\n",
       "      <td>administration</td>\n",
       "      <td>0</td>\n",
       "    </tr>\n",
       "    <tr>\n",
       "      <th>4</th>\n",
       "      <td>accepted</td>\n",
       "      <td>administrators</td>\n",
       "      <td>0</td>\n",
       "    </tr>\n",
       "    <tr>\n",
       "      <th>...</th>\n",
       "      <td>...</td>\n",
       "      <td>...</td>\n",
       "      <td>...</td>\n",
       "    </tr>\n",
       "    <tr>\n",
       "      <th>32395</th>\n",
       "      <td>widespread</td>\n",
       "      <td>voters</td>\n",
       "      <td>1</td>\n",
       "    </tr>\n",
       "    <tr>\n",
       "      <th>32396</th>\n",
       "      <td>widespread</td>\n",
       "      <td>wards</td>\n",
       "      <td>0</td>\n",
       "    </tr>\n",
       "    <tr>\n",
       "      <th>32397</th>\n",
       "      <td>widespread</td>\n",
       "      <td>welfare</td>\n",
       "      <td>0</td>\n",
       "    </tr>\n",
       "    <tr>\n",
       "      <th>32398</th>\n",
       "      <td>widespread</td>\n",
       "      <td>well</td>\n",
       "      <td>0</td>\n",
       "    </tr>\n",
       "    <tr>\n",
       "      <th>32399</th>\n",
       "      <td>widespread</td>\n",
       "      <td>widespread</td>\n",
       "      <td>0</td>\n",
       "    </tr>\n",
       "  </tbody>\n",
       "</table>\n",
       "<p>32400 rows × 3 columns</p>\n",
       "</div>"
      ],
      "text/plain": [
       "           source          target  weight\n",
       "0        accepted        accepted       0\n",
       "1        accepted         achieve       0\n",
       "2        accepted             act       0\n",
       "3        accepted  administration       0\n",
       "4        accepted  administrators       0\n",
       "...           ...             ...     ...\n",
       "32395  widespread          voters       1\n",
       "32396  widespread           wards       0\n",
       "32397  widespread         welfare       0\n",
       "32398  widespread            well       0\n",
       "32399  widespread      widespread       0\n",
       "\n",
       "[32400 rows x 3 columns]"
      ]
     },
     "execution_count": 119,
     "metadata": {},
     "output_type": "execute_result"
    }
   ],
   "source": [
    "edgeLdf = pd.DataFrame(edge_list)\n",
    "edgeLdf"
   ]
  },
  {
   "cell_type": "code",
   "execution_count": 120,
   "metadata": {},
   "outputs": [],
   "source": [
    "edgeLdf.to_csv('edgelist.csv', index=False)"
   ]
  },
  {
   "cell_type": "code",
   "execution_count": 121,
   "metadata": {},
   "outputs": [
    {
     "data": {
      "text/html": [
       "<div>\n",
       "<style scoped>\n",
       "    .dataframe tbody tr th:only-of-type {\n",
       "        vertical-align: middle;\n",
       "    }\n",
       "\n",
       "    .dataframe tbody tr th {\n",
       "        vertical-align: top;\n",
       "    }\n",
       "\n",
       "    .dataframe thead th {\n",
       "        text-align: right;\n",
       "    }\n",
       "</style>\n",
       "<table border=\"1\" class=\"dataframe\">\n",
       "  <thead>\n",
       "    <tr style=\"text-align: right;\">\n",
       "      <th></th>\n",
       "      <th>source</th>\n",
       "      <th>target</th>\n",
       "      <th>weight</th>\n",
       "    </tr>\n",
       "  </thead>\n",
       "  <tbody>\n",
       "    <tr>\n",
       "      <th>0</th>\n",
       "      <td>accepted</td>\n",
       "      <td>accepted</td>\n",
       "      <td>0</td>\n",
       "    </tr>\n",
       "    <tr>\n",
       "      <th>1</th>\n",
       "      <td>accepted</td>\n",
       "      <td>achieve</td>\n",
       "      <td>0</td>\n",
       "    </tr>\n",
       "    <tr>\n",
       "      <th>2</th>\n",
       "      <td>accepted</td>\n",
       "      <td>act</td>\n",
       "      <td>0</td>\n",
       "    </tr>\n",
       "    <tr>\n",
       "      <th>3</th>\n",
       "      <td>accepted</td>\n",
       "      <td>administration</td>\n",
       "      <td>0</td>\n",
       "    </tr>\n",
       "    <tr>\n",
       "      <th>4</th>\n",
       "      <td>accepted</td>\n",
       "      <td>administrators</td>\n",
       "      <td>0</td>\n",
       "    </tr>\n",
       "  </tbody>\n",
       "</table>\n",
       "</div>"
      ],
      "text/plain": [
       "     source          target  weight\n",
       "0  accepted        accepted       0\n",
       "1  accepted         achieve       0\n",
       "2  accepted             act       0\n",
       "3  accepted  administration       0\n",
       "4  accepted  administrators       0"
      ]
     },
     "execution_count": 121,
     "metadata": {},
     "output_type": "execute_result"
    }
   ],
   "source": [
    "edgeLdf_r = pd.read_csv('edgelist.csv')\n",
    "edgeLdf_r.head()"
   ]
  },
  {
   "cell_type": "code",
   "execution_count": 73,
   "metadata": {},
   "outputs": [
    {
     "data": {
      "text/html": [
       "<div>\n",
       "<style scoped>\n",
       "    .dataframe tbody tr th:only-of-type {\n",
       "        vertical-align: middle;\n",
       "    }\n",
       "\n",
       "    .dataframe tbody tr th {\n",
       "        vertical-align: top;\n",
       "    }\n",
       "\n",
       "    .dataframe thead th {\n",
       "        text-align: right;\n",
       "    }\n",
       "</style>\n",
       "<table border=\"1\" class=\"dataframe\">\n",
       "  <thead>\n",
       "    <tr style=\"text-align: right;\">\n",
       "      <th></th>\n",
       "      <th>0</th>\n",
       "    </tr>\n",
       "  </thead>\n",
       "  <tbody>\n",
       "    <tr>\n",
       "      <th>0</th>\n",
       "      <td>(0, 0)\\t0\\n  (0, 18)\\t1\\n  (0, 27)\\t1\\n  (0,...</td>\n",
       "    </tr>\n",
       "    <tr>\n",
       "      <th>1</th>\n",
       "      <td>(0, 1)\\t0\\n  (0, 29)\\t1\\n  (0, 50)\\t1\\n  (0,...</td>\n",
       "    </tr>\n",
       "    <tr>\n",
       "      <th>2</th>\n",
       "      <td>(0, 2)\\t0\\n  (0, 7)\\t1\\n  (0, 40)\\t1\\n  (0, ...</td>\n",
       "    </tr>\n",
       "    <tr>\n",
       "      <th>3</th>\n",
       "      <td>(0, 3)\\t0\\n  (0, 109)\\t1\\n  (0, 140)\\t1\\n  (...</td>\n",
       "    </tr>\n",
       "    <tr>\n",
       "      <th>4</th>\n",
       "      <td>(0, 4)\\t0\\n  (0, 20)\\t1\\n  (0, 70)\\t1\\n  (0,...</td>\n",
       "    </tr>\n",
       "  </tbody>\n",
       "</table>\n",
       "</div>"
      ],
      "text/plain": [
       "                                                   0\n",
       "0    (0, 0)\\t0\\n  (0, 18)\\t1\\n  (0, 27)\\t1\\n  (0,...\n",
       "1    (0, 1)\\t0\\n  (0, 29)\\t1\\n  (0, 50)\\t1\\n  (0,...\n",
       "2    (0, 2)\\t0\\n  (0, 7)\\t1\\n  (0, 40)\\t1\\n  (0, ...\n",
       "3    (0, 3)\\t0\\n  (0, 109)\\t1\\n  (0, 140)\\t1\\n  (...\n",
       "4    (0, 4)\\t0\\n  (0, 20)\\t1\\n  (0, 70)\\t1\\n  (0,..."
      ]
     },
     "execution_count": 73,
     "metadata": {},
     "output_type": "execute_result"
    }
   ],
   "source": [
    "mdfx = pd.DataFrame(Xc)\n",
    "mdfx.head()"
   ]
  },
  {
   "cell_type": "code",
   "execution_count": 70,
   "metadata": {},
   "outputs": [
    {
     "data": {
      "text/html": [
       "<div>\n",
       "<style scoped>\n",
       "    .dataframe tbody tr th:only-of-type {\n",
       "        vertical-align: middle;\n",
       "    }\n",
       "\n",
       "    .dataframe tbody tr th {\n",
       "        vertical-align: top;\n",
       "    }\n",
       "\n",
       "    .dataframe thead th {\n",
       "        text-align: right;\n",
       "    }\n",
       "</style>\n",
       "<table border=\"1\" class=\"dataframe\">\n",
       "  <thead>\n",
       "    <tr style=\"text-align: right;\">\n",
       "      <th></th>\n",
       "      <th>0</th>\n",
       "      <th>1</th>\n",
       "      <th>2</th>\n",
       "      <th>3</th>\n",
       "      <th>4</th>\n",
       "      <th>5</th>\n",
       "      <th>6</th>\n",
       "      <th>7</th>\n",
       "      <th>8</th>\n",
       "      <th>9</th>\n",
       "      <th>...</th>\n",
       "      <th>375</th>\n",
       "      <th>376</th>\n",
       "      <th>377</th>\n",
       "      <th>378</th>\n",
       "      <th>379</th>\n",
       "      <th>380</th>\n",
       "      <th>381</th>\n",
       "      <th>382</th>\n",
       "      <th>383</th>\n",
       "      <th>384</th>\n",
       "    </tr>\n",
       "  </thead>\n",
       "  <tbody>\n",
       "    <tr>\n",
       "      <th>0</th>\n",
       "      <td>0</td>\n",
       "      <td>0</td>\n",
       "      <td>0</td>\n",
       "      <td>0</td>\n",
       "      <td>0</td>\n",
       "      <td>0</td>\n",
       "      <td>0</td>\n",
       "      <td>0</td>\n",
       "      <td>0</td>\n",
       "      <td>0</td>\n",
       "      <td>...</td>\n",
       "      <td>1</td>\n",
       "      <td>0</td>\n",
       "      <td>0</td>\n",
       "      <td>0</td>\n",
       "      <td>0</td>\n",
       "      <td>0</td>\n",
       "      <td>0</td>\n",
       "      <td>0</td>\n",
       "      <td>0</td>\n",
       "      <td>0</td>\n",
       "    </tr>\n",
       "    <tr>\n",
       "      <th>1</th>\n",
       "      <td>0</td>\n",
       "      <td>0</td>\n",
       "      <td>0</td>\n",
       "      <td>0</td>\n",
       "      <td>0</td>\n",
       "      <td>0</td>\n",
       "      <td>0</td>\n",
       "      <td>0</td>\n",
       "      <td>0</td>\n",
       "      <td>0</td>\n",
       "      <td>...</td>\n",
       "      <td>0</td>\n",
       "      <td>0</td>\n",
       "      <td>0</td>\n",
       "      <td>0</td>\n",
       "      <td>0</td>\n",
       "      <td>0</td>\n",
       "      <td>0</td>\n",
       "      <td>0</td>\n",
       "      <td>0</td>\n",
       "      <td>0</td>\n",
       "    </tr>\n",
       "    <tr>\n",
       "      <th>2</th>\n",
       "      <td>0</td>\n",
       "      <td>0</td>\n",
       "      <td>0</td>\n",
       "      <td>0</td>\n",
       "      <td>0</td>\n",
       "      <td>0</td>\n",
       "      <td>0</td>\n",
       "      <td>1</td>\n",
       "      <td>0</td>\n",
       "      <td>0</td>\n",
       "      <td>...</td>\n",
       "      <td>0</td>\n",
       "      <td>0</td>\n",
       "      <td>0</td>\n",
       "      <td>0</td>\n",
       "      <td>0</td>\n",
       "      <td>0</td>\n",
       "      <td>0</td>\n",
       "      <td>0</td>\n",
       "      <td>0</td>\n",
       "      <td>0</td>\n",
       "    </tr>\n",
       "    <tr>\n",
       "      <th>3</th>\n",
       "      <td>0</td>\n",
       "      <td>0</td>\n",
       "      <td>0</td>\n",
       "      <td>0</td>\n",
       "      <td>0</td>\n",
       "      <td>0</td>\n",
       "      <td>0</td>\n",
       "      <td>0</td>\n",
       "      <td>0</td>\n",
       "      <td>0</td>\n",
       "      <td>...</td>\n",
       "      <td>0</td>\n",
       "      <td>0</td>\n",
       "      <td>0</td>\n",
       "      <td>0</td>\n",
       "      <td>0</td>\n",
       "      <td>0</td>\n",
       "      <td>0</td>\n",
       "      <td>0</td>\n",
       "      <td>0</td>\n",
       "      <td>0</td>\n",
       "    </tr>\n",
       "    <tr>\n",
       "      <th>4</th>\n",
       "      <td>0</td>\n",
       "      <td>0</td>\n",
       "      <td>0</td>\n",
       "      <td>0</td>\n",
       "      <td>0</td>\n",
       "      <td>0</td>\n",
       "      <td>0</td>\n",
       "      <td>0</td>\n",
       "      <td>0</td>\n",
       "      <td>0</td>\n",
       "      <td>...</td>\n",
       "      <td>0</td>\n",
       "      <td>0</td>\n",
       "      <td>0</td>\n",
       "      <td>0</td>\n",
       "      <td>0</td>\n",
       "      <td>0</td>\n",
       "      <td>0</td>\n",
       "      <td>0</td>\n",
       "      <td>0</td>\n",
       "      <td>0</td>\n",
       "    </tr>\n",
       "  </tbody>\n",
       "</table>\n",
       "<p>5 rows × 385 columns</p>\n",
       "</div>"
      ],
      "text/plain": [
       "   0    1    2    3    4    5    6    7    8    9    ...  375  376  377  378  \\\n",
       "0    0    0    0    0    0    0    0    0    0    0  ...    1    0    0    0   \n",
       "1    0    0    0    0    0    0    0    0    0    0  ...    0    0    0    0   \n",
       "2    0    0    0    0    0    0    0    1    0    0  ...    0    0    0    0   \n",
       "3    0    0    0    0    0    0    0    0    0    0  ...    0    0    0    0   \n",
       "4    0    0    0    0    0    0    0    0    0    0  ...    0    0    0    0   \n",
       "\n",
       "   379  380  381  382  383  384  \n",
       "0    0    0    0    0    0    0  \n",
       "1    0    0    0    0    0    0  \n",
       "2    0    0    0    0    0    0  \n",
       "3    0    0    0    0    0    0  \n",
       "4    0    0    0    0    0    0  \n",
       "\n",
       "[5 rows x 385 columns]"
      ]
     },
     "execution_count": 70,
     "metadata": {},
     "output_type": "execute_result"
    }
   ],
   "source": [
    "mdf = pd.DataFrame(Xc.todense())\n",
    "mdf.head()"
   ]
  },
  {
   "cell_type": "code",
   "execution_count": 71,
   "metadata": {},
   "outputs": [
    {
     "data": {
      "text/html": [
       "<div>\n",
       "<style scoped>\n",
       "    .dataframe tbody tr th:only-of-type {\n",
       "        vertical-align: middle;\n",
       "    }\n",
       "\n",
       "    .dataframe tbody tr th {\n",
       "        vertical-align: top;\n",
       "    }\n",
       "\n",
       "    .dataframe thead th {\n",
       "        text-align: right;\n",
       "    }\n",
       "</style>\n",
       "<table border=\"1\" class=\"dataframe\">\n",
       "  <thead>\n",
       "    <tr style=\"text-align: right;\">\n",
       "      <th></th>\n",
       "      <th>0</th>\n",
       "      <th>1</th>\n",
       "      <th>2</th>\n",
       "      <th>3</th>\n",
       "      <th>4</th>\n",
       "      <th>5</th>\n",
       "      <th>6</th>\n",
       "      <th>7</th>\n",
       "      <th>8</th>\n",
       "      <th>9</th>\n",
       "      <th>...</th>\n",
       "      <th>375</th>\n",
       "      <th>376</th>\n",
       "      <th>377</th>\n",
       "      <th>378</th>\n",
       "      <th>379</th>\n",
       "      <th>380</th>\n",
       "      <th>381</th>\n",
       "      <th>382</th>\n",
       "      <th>383</th>\n",
       "      <th>384</th>\n",
       "    </tr>\n",
       "  </thead>\n",
       "  <tbody>\n",
       "    <tr>\n",
       "      <th>count</th>\n",
       "      <td>385.000000</td>\n",
       "      <td>385.000000</td>\n",
       "      <td>385.000000</td>\n",
       "      <td>385.000000</td>\n",
       "      <td>385.000000</td>\n",
       "      <td>385.000000</td>\n",
       "      <td>385.000000</td>\n",
       "      <td>385.000000</td>\n",
       "      <td>385.000000</td>\n",
       "      <td>385.000000</td>\n",
       "      <td>...</td>\n",
       "      <td>385.000000</td>\n",
       "      <td>385.000000</td>\n",
       "      <td>385.000000</td>\n",
       "      <td>385.000000</td>\n",
       "      <td>385.000000</td>\n",
       "      <td>385.000000</td>\n",
       "      <td>385.000000</td>\n",
       "      <td>385.000000</td>\n",
       "      <td>385.000000</td>\n",
       "      <td>385.000000</td>\n",
       "    </tr>\n",
       "    <tr>\n",
       "      <th>mean</th>\n",
       "      <td>0.054545</td>\n",
       "      <td>0.020779</td>\n",
       "      <td>0.031169</td>\n",
       "      <td>0.023377</td>\n",
       "      <td>0.038961</td>\n",
       "      <td>0.080519</td>\n",
       "      <td>0.038961</td>\n",
       "      <td>0.080519</td>\n",
       "      <td>0.036364</td>\n",
       "      <td>0.028571</td>\n",
       "      <td>...</td>\n",
       "      <td>0.054545</td>\n",
       "      <td>0.025974</td>\n",
       "      <td>0.033766</td>\n",
       "      <td>0.051948</td>\n",
       "      <td>0.015584</td>\n",
       "      <td>0.049351</td>\n",
       "      <td>0.033766</td>\n",
       "      <td>0.038961</td>\n",
       "      <td>0.075325</td>\n",
       "      <td>0.018182</td>\n",
       "    </tr>\n",
       "    <tr>\n",
       "      <th>std</th>\n",
       "      <td>0.227386</td>\n",
       "      <td>0.142830</td>\n",
       "      <td>0.174000</td>\n",
       "      <td>0.151293</td>\n",
       "      <td>0.193754</td>\n",
       "      <td>0.281846</td>\n",
       "      <td>0.218991</td>\n",
       "      <td>0.299756</td>\n",
       "      <td>0.187437</td>\n",
       "      <td>0.181757</td>\n",
       "      <td>...</td>\n",
       "      <td>0.227386</td>\n",
       "      <td>0.159265</td>\n",
       "      <td>0.180862</td>\n",
       "      <td>0.233637</td>\n",
       "      <td>0.124022</td>\n",
       "      <td>0.228573</td>\n",
       "      <td>0.194729</td>\n",
       "      <td>0.206758</td>\n",
       "      <td>0.273935</td>\n",
       "      <td>0.133782</td>\n",
       "    </tr>\n",
       "    <tr>\n",
       "      <th>min</th>\n",
       "      <td>0.000000</td>\n",
       "      <td>0.000000</td>\n",
       "      <td>0.000000</td>\n",
       "      <td>0.000000</td>\n",
       "      <td>0.000000</td>\n",
       "      <td>0.000000</td>\n",
       "      <td>0.000000</td>\n",
       "      <td>0.000000</td>\n",
       "      <td>0.000000</td>\n",
       "      <td>0.000000</td>\n",
       "      <td>...</td>\n",
       "      <td>0.000000</td>\n",
       "      <td>0.000000</td>\n",
       "      <td>0.000000</td>\n",
       "      <td>0.000000</td>\n",
       "      <td>0.000000</td>\n",
       "      <td>0.000000</td>\n",
       "      <td>0.000000</td>\n",
       "      <td>0.000000</td>\n",
       "      <td>0.000000</td>\n",
       "      <td>0.000000</td>\n",
       "    </tr>\n",
       "    <tr>\n",
       "      <th>25%</th>\n",
       "      <td>0.000000</td>\n",
       "      <td>0.000000</td>\n",
       "      <td>0.000000</td>\n",
       "      <td>0.000000</td>\n",
       "      <td>0.000000</td>\n",
       "      <td>0.000000</td>\n",
       "      <td>0.000000</td>\n",
       "      <td>0.000000</td>\n",
       "      <td>0.000000</td>\n",
       "      <td>0.000000</td>\n",
       "      <td>...</td>\n",
       "      <td>0.000000</td>\n",
       "      <td>0.000000</td>\n",
       "      <td>0.000000</td>\n",
       "      <td>0.000000</td>\n",
       "      <td>0.000000</td>\n",
       "      <td>0.000000</td>\n",
       "      <td>0.000000</td>\n",
       "      <td>0.000000</td>\n",
       "      <td>0.000000</td>\n",
       "      <td>0.000000</td>\n",
       "    </tr>\n",
       "    <tr>\n",
       "      <th>50%</th>\n",
       "      <td>0.000000</td>\n",
       "      <td>0.000000</td>\n",
       "      <td>0.000000</td>\n",
       "      <td>0.000000</td>\n",
       "      <td>0.000000</td>\n",
       "      <td>0.000000</td>\n",
       "      <td>0.000000</td>\n",
       "      <td>0.000000</td>\n",
       "      <td>0.000000</td>\n",
       "      <td>0.000000</td>\n",
       "      <td>...</td>\n",
       "      <td>0.000000</td>\n",
       "      <td>0.000000</td>\n",
       "      <td>0.000000</td>\n",
       "      <td>0.000000</td>\n",
       "      <td>0.000000</td>\n",
       "      <td>0.000000</td>\n",
       "      <td>0.000000</td>\n",
       "      <td>0.000000</td>\n",
       "      <td>0.000000</td>\n",
       "      <td>0.000000</td>\n",
       "    </tr>\n",
       "    <tr>\n",
       "      <th>75%</th>\n",
       "      <td>0.000000</td>\n",
       "      <td>0.000000</td>\n",
       "      <td>0.000000</td>\n",
       "      <td>0.000000</td>\n",
       "      <td>0.000000</td>\n",
       "      <td>0.000000</td>\n",
       "      <td>0.000000</td>\n",
       "      <td>0.000000</td>\n",
       "      <td>0.000000</td>\n",
       "      <td>0.000000</td>\n",
       "      <td>...</td>\n",
       "      <td>0.000000</td>\n",
       "      <td>0.000000</td>\n",
       "      <td>0.000000</td>\n",
       "      <td>0.000000</td>\n",
       "      <td>0.000000</td>\n",
       "      <td>0.000000</td>\n",
       "      <td>0.000000</td>\n",
       "      <td>0.000000</td>\n",
       "      <td>0.000000</td>\n",
       "      <td>0.000000</td>\n",
       "    </tr>\n",
       "    <tr>\n",
       "      <th>max</th>\n",
       "      <td>1.000000</td>\n",
       "      <td>1.000000</td>\n",
       "      <td>1.000000</td>\n",
       "      <td>1.000000</td>\n",
       "      <td>1.000000</td>\n",
       "      <td>2.000000</td>\n",
       "      <td>2.000000</td>\n",
       "      <td>2.000000</td>\n",
       "      <td>1.000000</td>\n",
       "      <td>2.000000</td>\n",
       "      <td>...</td>\n",
       "      <td>1.000000</td>\n",
       "      <td>1.000000</td>\n",
       "      <td>1.000000</td>\n",
       "      <td>2.000000</td>\n",
       "      <td>1.000000</td>\n",
       "      <td>2.000000</td>\n",
       "      <td>2.000000</td>\n",
       "      <td>2.000000</td>\n",
       "      <td>2.000000</td>\n",
       "      <td>1.000000</td>\n",
       "    </tr>\n",
       "  </tbody>\n",
       "</table>\n",
       "<p>8 rows × 385 columns</p>\n",
       "</div>"
      ],
      "text/plain": [
       "              0           1           2           3           4           5    \\\n",
       "count  385.000000  385.000000  385.000000  385.000000  385.000000  385.000000   \n",
       "mean     0.054545    0.020779    0.031169    0.023377    0.038961    0.080519   \n",
       "std      0.227386    0.142830    0.174000    0.151293    0.193754    0.281846   \n",
       "min      0.000000    0.000000    0.000000    0.000000    0.000000    0.000000   \n",
       "25%      0.000000    0.000000    0.000000    0.000000    0.000000    0.000000   \n",
       "50%      0.000000    0.000000    0.000000    0.000000    0.000000    0.000000   \n",
       "75%      0.000000    0.000000    0.000000    0.000000    0.000000    0.000000   \n",
       "max      1.000000    1.000000    1.000000    1.000000    1.000000    2.000000   \n",
       "\n",
       "              6           7           8           9    ...         375  \\\n",
       "count  385.000000  385.000000  385.000000  385.000000  ...  385.000000   \n",
       "mean     0.038961    0.080519    0.036364    0.028571  ...    0.054545   \n",
       "std      0.218991    0.299756    0.187437    0.181757  ...    0.227386   \n",
       "min      0.000000    0.000000    0.000000    0.000000  ...    0.000000   \n",
       "25%      0.000000    0.000000    0.000000    0.000000  ...    0.000000   \n",
       "50%      0.000000    0.000000    0.000000    0.000000  ...    0.000000   \n",
       "75%      0.000000    0.000000    0.000000    0.000000  ...    0.000000   \n",
       "max      2.000000    2.000000    1.000000    2.000000  ...    1.000000   \n",
       "\n",
       "              376         377         378         379         380         381  \\\n",
       "count  385.000000  385.000000  385.000000  385.000000  385.000000  385.000000   \n",
       "mean     0.025974    0.033766    0.051948    0.015584    0.049351    0.033766   \n",
       "std      0.159265    0.180862    0.233637    0.124022    0.228573    0.194729   \n",
       "min      0.000000    0.000000    0.000000    0.000000    0.000000    0.000000   \n",
       "25%      0.000000    0.000000    0.000000    0.000000    0.000000    0.000000   \n",
       "50%      0.000000    0.000000    0.000000    0.000000    0.000000    0.000000   \n",
       "75%      0.000000    0.000000    0.000000    0.000000    0.000000    0.000000   \n",
       "max      1.000000    1.000000    2.000000    1.000000    2.000000    2.000000   \n",
       "\n",
       "              382         383         384  \n",
       "count  385.000000  385.000000  385.000000  \n",
       "mean     0.038961    0.075325    0.018182  \n",
       "std      0.206758    0.273935    0.133782  \n",
       "min      0.000000    0.000000    0.000000  \n",
       "25%      0.000000    0.000000    0.000000  \n",
       "50%      0.000000    0.000000    0.000000  \n",
       "75%      0.000000    0.000000    0.000000  \n",
       "max      2.000000    2.000000    1.000000  \n",
       "\n",
       "[8 rows x 385 columns]"
      ]
     },
     "execution_count": 71,
     "metadata": {},
     "output_type": "execute_result"
    }
   ],
   "source": [
    "mdf.describe()"
   ]
  },
  {
   "cell_type": "code",
   "execution_count": null,
   "metadata": {},
   "outputs": [],
   "source": []
  },
  {
   "cell_type": "code",
   "execution_count": null,
   "metadata": {},
   "outputs": [],
   "source": []
  },
  {
   "cell_type": "code",
   "execution_count": null,
   "metadata": {},
   "outputs": [],
   "source": []
  },
  {
   "cell_type": "code",
   "execution_count": 22,
   "metadata": {},
   "outputs": [
    {
     "data": {
      "text/plain": [
       "'fire fact outright event ambiguous didnt investigate size surveillance good operation orderly charged former effective support assistance promise recommended hold problem pearl offer mac employed obtain highway atlanta top making bankers laws bellwood force intends juries give property calmest might prices chairman house congressmen offices compensation sen upon warned learned health operating dispute takes time topics something management rescind details precincts courts permit well asked constitutional reasonable old death gubernatorial formally jail trouble generally candidates present jackson receives quickie nevertheless receive jan privilege hurdle encouragement remedy georgia savannah adamant specifically every contracts board gainesville welfare efficiency alpharetta association bowden jury bond friday modernizing would leading office steps night enabling according deputies quiet post authorities general next allowances governments polls allow whether received wednesday act intern incorporated place enter race become made went per pye local aug effect congress evidence however hospital director feel republicans exception warning taxpayers new election tom smooth priority continue calls consulted pelham opposed funds take mention allowed undue increased concessionaires issued day grady texas interim believes amendment consistently marked shot wait like issue rob tuesday irregularities opelika telephone brief ledford registered chambers ala disable earlier washington urban yet program expended john court proposed gov featured harry rally interest callan cheshire one services items expense asking past portion farms ridge legislation doctor bush paid accepted extern long saturdays armed unit resigned assistant meanwhile determine approve veiled improving november achieve fees date produced airport put caldwell ready congressional wasnt council said make possible heavily pricing seek near done goes barber directed feared appointment realize adjournment thursday byrds agriculture delegation relative shortly deserves filed occupation griffin title distribute members scheduled tabb political legislator reports ever authority age also names starts couple subjected responses foster presentments work gop plan monday ordinarys crowd added caldwells sought senate read city davis greater afternoon automobile veteran coordinator anonymous expected principal attended county charge george wind rejected williams hardfought home drop man traveled revised child similar may police wifes carey seen actions lived bar commented septemberoctober four combined reportedly urged cruelty married miller real state equitable vandiver sept repair burden additional legislators system purchasing candidate resignation bodys abandoned austin praised sales reconstruction approved must establishment alternative last technical number test hot find disproportionate wanted many years outmoded multimilliondollar available took henry back superior begin sunday ordinary granted plans fair worked toward petitions mental cent ones highways follow administration pass commissioners violence often merger provided administrators fund resolution announced james tossed repealed five order clerical judge reconsideration session influences threats governors opposes areas term inadequate dorsey unanimous counties together procedures future gun held hartsfield practices grand democratic largest mrs reduce costs elaborate march among audience insure handful thanks marvin told executive implementation fulton guardians department public three hopper durwood ivan research serve raises major governor found voted byrd overall protected mayors carry construction pistol registration best education none ballot wards appointed regarding defeated felix inure son widespread praise suit appraisers strong courses investigation aside officials duty result traditional constitution votes requesting rural allen outgoing awarding primary taken tower employes protect see populous million interlude federal enthusiasm road stood petition cost study termend elected relations passed operated servants robert soon conducted daughter official visit says end aid pension validity seemed fit failure picking saw policeman opened purpose year set revolving jurors atlantas experienced approval friendly campaign prison voting midnight pay coolest reset proportionate church snodgrass item listed battle let departments brought recent considering keeping weekend berry money agreed enthusiastic action swipe sessions distribution entering word personnel liquor bit superintendent controversy sign run amicable likely notice mayornominate career provide tax ask sam previous pointed dissents law getting attorney platform garland schley offered source certain speaker committee got daniels citizens unmeritorious handling phone two colquitt worth signatures rep given birth teacher school mayor settlement party matters medical vote recommendations increase expires first criticisms allotted despite voters apparently wife less endorse head price lacking reelection homes protests studied bonds commerce fully attorneys blue became william policies legislature issuance manner everything meeting since georgias adjustments days sheriff succeeded newly smell effected eliminate divorce periodic emphasizing promised roads face '"
      ]
     },
     "execution_count": 22,
     "metadata": {},
     "output_type": "execute_result"
    }
   ],
   "source": [
    "bs = str()\n",
    "for word in word_map:\n",
    "    bs += f'{word} '\n",
    "bs"
   ]
  },
  {
   "cell_type": "code",
   "execution_count": 61,
   "metadata": {},
   "outputs": [],
   "source": [
    "edge_dict = dict()\n",
    "for sentence in sents[:1]:\n",
    "    for word in sentence:\n",
    "        # print(word)\n",
    "        for word_fd in word_map:\n",
    "            if word_fd in sentence and word in word_map:\n",
    "                # print(word, word_fd)\n",
    "                # print(type(edge_dict.get(word, set())))\n",
    "                pr = edge_dict.get(word, set())\n",
    "                # print(type(pr))\n",
    "                pr.add(word_fd)\n",
    "                # print(pr)\n",
    "                edge_dict[word] = pr\n",
    "                # edge_dict.get(word, {'source': word, 'target': word_fd, 'weight': 1})\n",
    "                # print(edge_dict.get(word, {'source': word, 'target': word_fd, 'weight': 0}))\n",
    "                # edge_dict[].append({'source': word, 'target': word_fd}) "
   ]
  },
  {
   "cell_type": "code",
   "execution_count": 62,
   "metadata": {},
   "outputs": [
    {
     "data": {
      "text/plain": [
       "{'said': {'election',\n",
       "  'evidence',\n",
       "  'investigation',\n",
       "  'irregularities',\n",
       "  'place',\n",
       "  'primary',\n",
       "  'produced',\n",
       "  'recent',\n",
       "  'said',\n",
       "  'took'},\n",
       " 'investigation': {'election',\n",
       "  'evidence',\n",
       "  'investigation',\n",
       "  'irregularities',\n",
       "  'place',\n",
       "  'primary',\n",
       "  'produced',\n",
       "  'recent',\n",
       "  'said',\n",
       "  'took'},\n",
       " 'recent': {'election',\n",
       "  'evidence',\n",
       "  'investigation',\n",
       "  'irregularities',\n",
       "  'place',\n",
       "  'primary',\n",
       "  'produced',\n",
       "  'recent',\n",
       "  'said',\n",
       "  'took'},\n",
       " 'primary': {'election',\n",
       "  'evidence',\n",
       "  'investigation',\n",
       "  'irregularities',\n",
       "  'place',\n",
       "  'primary',\n",
       "  'produced',\n",
       "  'recent',\n",
       "  'said',\n",
       "  'took'},\n",
       " 'election': {'election',\n",
       "  'evidence',\n",
       "  'investigation',\n",
       "  'irregularities',\n",
       "  'place',\n",
       "  'primary',\n",
       "  'produced',\n",
       "  'recent',\n",
       "  'said',\n",
       "  'took'},\n",
       " 'produced': {'election',\n",
       "  'evidence',\n",
       "  'investigation',\n",
       "  'irregularities',\n",
       "  'place',\n",
       "  'primary',\n",
       "  'produced',\n",
       "  'recent',\n",
       "  'said',\n",
       "  'took'},\n",
       " 'evidence': {'election',\n",
       "  'evidence',\n",
       "  'investigation',\n",
       "  'irregularities',\n",
       "  'place',\n",
       "  'primary',\n",
       "  'produced',\n",
       "  'recent',\n",
       "  'said',\n",
       "  'took'},\n",
       " 'irregularities': {'election',\n",
       "  'evidence',\n",
       "  'investigation',\n",
       "  'irregularities',\n",
       "  'place',\n",
       "  'primary',\n",
       "  'produced',\n",
       "  'recent',\n",
       "  'said',\n",
       "  'took'},\n",
       " 'took': {'election',\n",
       "  'evidence',\n",
       "  'investigation',\n",
       "  'irregularities',\n",
       "  'place',\n",
       "  'primary',\n",
       "  'produced',\n",
       "  'recent',\n",
       "  'said',\n",
       "  'took'},\n",
       " 'place': {'election',\n",
       "  'evidence',\n",
       "  'investigation',\n",
       "  'irregularities',\n",
       "  'place',\n",
       "  'primary',\n",
       "  'produced',\n",
       "  'recent',\n",
       "  'said',\n",
       "  'took'}}"
      ]
     },
     "execution_count": 62,
     "metadata": {},
     "output_type": "execute_result"
    }
   ],
   "source": [
    "edge_dict"
   ]
  },
  {
   "cell_type": "code",
   "execution_count": null,
   "metadata": {},
   "outputs": [],
   "source": []
  }
 ],
 "metadata": {
  "kernelspec": {
   "display_name": "Python 3",
   "language": "python",
   "name": "python3"
  },
  "language_info": {
   "codemirror_mode": {
    "name": "ipython",
    "version": 3
   },
   "file_extension": ".py",
   "mimetype": "text/x-python",
   "name": "python",
   "nbconvert_exporter": "python",
   "pygments_lexer": "ipython3",
   "version": "3.7.4"
  }
 },
 "nbformat": 4,
 "nbformat_minor": 4
}
